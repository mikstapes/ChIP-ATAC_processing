{
 "cells": [
  {
   "cell_type": "code",
   "execution_count": 4,
   "metadata": {},
   "outputs": [],
   "source": [
    "from datetime import datetime\n",
    "import os\n",
    "dd = datetime.now().strftime('%Y%m%d')\n",
    "os.makedirs(dd)\n",
    "today=date.today()\n",
    "\n",
    "today.strftime('%Y%m%d')"
   ]
  },
  {
   "cell_type": "code",
   "execution_count": 55,
   "metadata": {},
   "outputs": [],
   "source": [
    "import pandas as pd\n",
    "\n",
    "df = pd.read_csv('/project/ibr_procs/dev/genomics_pipes/sample_info.tsv', sep = '\\t')"
   ]
  },
  {
   "cell_type": "code",
   "execution_count": 16,
   "metadata": {},
   "outputs": [],
   "source": [
    "import re"
   ]
  },
  {
   "cell_type": "code",
   "execution_count": null,
   "metadata": {},
   "outputs": [],
   "source": []
  },
  {
   "cell_type": "code",
   "execution_count": 46,
   "metadata": {},
   "outputs": [
    {
     "name": "stdout",
     "output_type": "stream",
     "text": [
      "['mpimg_L20871-1_mm-A-E105H-r1_S72_R1_001.fastq.gz', 'mpimg_L20871-1_mm-A-E105H-r1_S72_R2_001.fastq.gz']\n",
      "['mpimg_L20633-1_gg-22H-K27ac-r1_S5_R1_001.fastq.gz', 'mpimg_L20633-1_gg-22H-K27ac-r1_S5_R2_001.fastq.gz']\n",
      "['mpimg_L21132-1_gg-22H-r1_S31_R2_001.fastq.gz', 'mpimg_L21132-1_gg-22H-r1_S31_R1_001.fastq.gz']\n"
     ]
    }
   ],
   "source": [
    "fpaths = []\n",
    "for _,row in df.iterrows():\n",
    "    lib = row['library_number'].split('-')[0]\n",
    "    flowcell = row['flow_cell']\n",
    "    dir = row['solexa']\n",
    "    mates = \n",
    "    pattern = re.compile(rf'.*{lib}.*{flowcell}.*\\.gz$')\n",
    "    #print(pattern)\n",
    "    #fpaths += [os.path.join(dir, f) for f in os.listdir(dir) if re.match(pattern, f)]\n",
    "    #print([f for f in os.listdir(dir) if re.match(pattern, f)])\n"
   ]
  },
  {
   "cell_type": "code",
   "execution_count": 64,
   "metadata": {},
   "outputs": [
    {
     "name": "stdout",
     "output_type": "stream",
     "text": [
      "['ATAC-seq_heart_E105_mm39_L20871', 'H3K27ac_heart_HH22_galGal6_L20633', 'RNA-seq_heart_HH22_galGal6_L21132']\n"
     ]
    }
   ],
   "source": [
    "import os\n",
    "import re\n",
    "\n",
    "fname1 = []\n",
    "fname2 = []\n",
    "\n",
    "# Assuming 'df' is your DataFrame\n",
    "for _, row in df.iterrows():\n",
    "    lib = row['library_number'].split('-')[0]\n",
    "    flowcell = row['flow_cell']\n",
    "    dir = row['solexa']\n",
    "    #pattern = re.compile(rf'.*{lib}.*{flowcell}.*\\.gz$')\n",
    "    #fname1 += [os.path.join(dir, f) for f in os.listdir(dir) if re.match(pattern, f)]\n",
    "    fname2 += ['_'.join(row.iloc[1:5]) + '_' + lib]\n",
    "\n",
    "#out = [re.sub(r'_R[12]_001\\.fastq\\.gz', '', fn) for fn in fname1]\n",
    "print(fname2)\n"
   ]
  },
  {
   "cell_type": "code",
   "execution_count": 70,
   "metadata": {},
   "outputs": [],
   "source": [
    "def parse_sample_df(df, get=('solexa', 'samples')):\n",
    "    out = []\n",
    "    for _,row in df.iterrows():\n",
    "        lib = row['library_number'].split('-')[0]\n",
    "        flowcell = row['flow_cell']\n",
    "        dir = row['solexa']\n",
    "        pattern = re.compile(rf'.*{lib}.*{flowcell}.*\\.gz$')\n",
    "        if get == 'solexa':\n",
    "            out += [os.path.join(dir, f) for f in os.listdir(dir) if re.match(pattern, f)]\n",
    "        else:\n",
    "            out += ['_'.join(row.iloc[1:5]) + '_' + lib]\n",
    "\n",
    "    return(out)"
   ]
  },
  {
   "cell_type": "code",
   "execution_count": 67,
   "metadata": {},
   "outputs": [
    {
     "data": {
      "text/plain": [
       "['ATAC-seq_heart_E105_mm39_L20871',\n",
       " 'H3K27ac_heart_HH22_galGal6_L20633',\n",
       " 'RNA-seq_heart_HH22_galGal6_L21132']"
      ]
     },
     "execution_count": 67,
     "metadata": {},
     "output_type": "execute_result"
    }
   ],
   "source": [
    "parse_sample_df(df, 'samples')"
   ]
  },
  {
   "cell_type": "code",
   "execution_count": 42,
   "metadata": {},
   "outputs": [
    {
     "name": "stdout",
     "output_type": "stream",
     "text": [
      "['RNA-seq_heart_HH22_Rep1_galGal6_WT_L21132_R1_001.fastq.gz', 'RNA-seq_heart_HH22_Rep1_galGal6_WT_L21132_R2_001.fastq.gz']\n"
     ]
    }
   ],
   "source": [
    "import pandas as pd\n",
    "\n",
    "df = pd.read_csv('/project/ibr_procs/dev/genomics_pipes/sample_info.tsv', sep = '\\t')\n",
    "SAMPLES = df['sample'].tolist()\n",
    "for s in SAMPLES:\n",
    "    if df.loc[df['sample']==s, 'sequencing_type'].iloc[0] == 'paired-end':\n",
    "        output = ['%s_%s_001.fastq.gz' %(s, read) for read in ['R1', 'R2']]\n",
    "    else:\n",
    "        output = ['%s_R1_001.fastq.gz' %s]\n",
    "\n"
   ]
  },
  {
   "cell_type": "code",
   "execution_count": 41,
   "metadata": {},
   "outputs": [
    {
     "name": "stdout",
     "output_type": "stream",
     "text": [
      "True\n",
      "True\n",
      "True\n"
     ]
    }
   ],
   "source": [
    "df = pd.read_csv('/project/ibr_procs/dev/genomics_pipes/sample_info.tsv', sep = '\\t')\n",
    "SAMPLES = df['sample'].tolist()\n",
    "for s in SAMPLES:\n",
    "    print(df.loc[df['sample']==s, 'sequencing_type'].iloc[0] == 'paired-end')"
   ]
  },
  {
   "cell_type": "code",
   "execution_count": 51,
   "metadata": {},
   "outputs": [],
   "source": [
    "def get_fastq(df):\n",
    "    fastq = []\n",
    "    for _,row in df.iterrows():\n",
    "        sample = row['sample']\n",
    "        if row['experiment'] in ['ATAC', 'ChIPmentation']:\n",
    "            fastq += ['%s/_fastq/%s_%s_001.trimmed.fastq.gz' %(outdir, sample, read) for read in ['R1', 'R2']]\n",
    "        else:\n",
    "            fastq += ['%s/_fastq/%s_%s_001.fastq.gz' %(outdir, sample, read) for read in ['R1', 'R2']]\n",
    "\n",
    "    return([fq for fq in fastq]) "
   ]
  },
  {
   "cell_type": "code",
   "execution_count": 45,
   "metadata": {},
   "outputs": [
    {
     "data": {
      "text/plain": [
       "'20240527/logs/{sample}.cutadapt.log'"
      ]
     },
     "execution_count": 45,
     "metadata": {},
     "output_type": "execute_result"
    }
   ],
   "source": [
    "outdir = datetime.now().strftime('%Y%m%d')\n",
    "\n",
    "os.path.join(outdir, 'logs', '{sample}.cutadapt.log')"
   ]
  },
  {
   "cell_type": "code",
   "execution_count": 72,
   "metadata": {},
   "outputs": [],
   "source": [
    "def get_bt2idx(df):\n",
    "    ref_path = '/project/MDL_Ibrahim/MP_all/references'\n",
    "    #return(os.path.join(ref_path, build) for build in df['build'])\n",
    "    outpath = []\n",
    "    for _,row in df.iterrows():\n",
    "        if row['experiment'] in ['ATAC', 'ChIPmentation']:\n",
    "            outpath += [os.path.join(ref_path, row['build'])]\n",
    "    return(outpath)"
   ]
  },
  {
   "cell_type": "code",
   "execution_count": 73,
   "metadata": {},
   "outputs": [
    {
     "data": {
      "text/plain": [
       "['/project/MDL_Ibrahim/MP_all/references/mm39',\n",
       " '/project/MDL_Ibrahim/MP_all/references/galGal6']"
      ]
     },
     "execution_count": 73,
     "metadata": {},
     "output_type": "execute_result"
    }
   ],
   "source": [
    "get_bt2idx(df)"
   ]
  },
  {
   "cell_type": "code",
   "execution_count": null,
   "metadata": {},
   "outputs": [],
   "source": []
  }
 ],
 "metadata": {
  "kernelspec": {
   "display_name": "ipp",
   "language": "python",
   "name": "python3"
  },
  "language_info": {
   "codemirror_mode": {
    "name": "ipython",
    "version": 3
   },
   "file_extension": ".py",
   "mimetype": "text/x-python",
   "name": "python",
   "nbconvert_exporter": "python",
   "pygments_lexer": "ipython3",
   "version": "3.9.10"
  }
 },
 "nbformat": 4,
 "nbformat_minor": 2
}

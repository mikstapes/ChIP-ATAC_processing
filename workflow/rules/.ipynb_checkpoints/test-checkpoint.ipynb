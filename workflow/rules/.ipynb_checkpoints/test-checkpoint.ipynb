{
 "cells": [
  {
   "cell_type": "code",
   "execution_count": 4,
   "metadata": {},
   "outputs": [],
   "source": [
    "from datetime import datetime\n",
    "import os\n",
    "dd = datetime.now().strftime('%Y%m%d')\n",
    "os.makedirs(dd)\n",
    "today=date.today()\n",
    "\n",
    "today.strftime('%Y%m%d')"
   ]
  },
  {
   "cell_type": "code",
   "execution_count": 1,
   "metadata": {
    "execution": {
     "iopub.execute_input": "2024-05-30T12:03:32.573560Z",
     "iopub.status.busy": "2024-05-30T12:03:32.572658Z",
     "iopub.status.idle": "2024-05-30T12:03:33.369813Z",
     "shell.execute_reply": "2024-05-30T12:03:33.368788Z",
     "shell.execute_reply.started": "2024-05-30T12:03:32.573396Z"
    }
   },
   "outputs": [],
   "source": [
    "import pandas as pd\n",
    "\n",
    "df = pd.read_csv('/project/ibr_procs/dev/genomics_pipes/sample_info.tsv', sep = '\\t')"
   ]
  },
  {
   "cell_type": "code",
   "execution_count": 16,
   "metadata": {},
   "outputs": [],
   "source": [
    "import re"
   ]
  },
  {
   "cell_type": "code",
   "execution_count": null,
   "metadata": {},
   "outputs": [],
   "source": []
  },
  {
   "cell_type": "code",
   "execution_count": 46,
   "metadata": {},
   "outputs": [
    {
     "name": "stdout",
     "output_type": "stream",
     "text": [
      "['mpimg_L20871-1_mm-A-E105H-r1_S72_R1_001.fastq.gz', 'mpimg_L20871-1_mm-A-E105H-r1_S72_R2_001.fastq.gz']\n",
      "['mpimg_L20633-1_gg-22H-K27ac-r1_S5_R1_001.fastq.gz', 'mpimg_L20633-1_gg-22H-K27ac-r1_S5_R2_001.fastq.gz']\n",
      "['mpimg_L21132-1_gg-22H-r1_S31_R2_001.fastq.gz', 'mpimg_L21132-1_gg-22H-r1_S31_R1_001.fastq.gz']\n"
     ]
    }
   ],
   "source": [
    "fpaths = []\n",
    "for _,row in df.iterrows():\n",
    "    lib = row['library_number'].split('-')[0]\n",
    "    flowcell = row['flow_cell']\n",
    "    dir = row['solexa']\n",
    "    mates = \n",
    "    pattern = re.compile(rf'.*{lib}.*{flowcell}.*\\.gz$')\n",
    "    #print(pattern)\n",
    "    #fpaths += [os.path.join(dir, f) for f in os.listdir(dir) if re.match(pattern, f)]\n",
    "    #print([f for f in os.listdir(dir) if re.match(pattern, f)])\n"
   ]
  },
  {
   "cell_type": "code",
   "execution_count": 64,
   "metadata": {},
   "outputs": [
    {
     "name": "stdout",
     "output_type": "stream",
     "text": [
      "['ATAC-seq_heart_E105_mm39_L20871', 'H3K27ac_heart_HH22_galGal6_L20633', 'RNA-seq_heart_HH22_galGal6_L21132']\n"
     ]
    }
   ],
   "source": [
    "import os\n",
    "import re\n",
    "\n",
    "fname1 = []\n",
    "fname2 = []\n",
    "\n",
    "# Assuming 'df' is your DataFrame\n",
    "for _, row in df.iterrows():\n",
    "    lib = row['library_number'].split('-')[0]\n",
    "    flowcell = row['flow_cell']\n",
    "    dir = row['solexa']\n",
    "    #pattern = re.compile(rf'.*{lib}.*{flowcell}.*\\.gz$')\n",
    "    #fname1 += [os.path.join(dir, f) for f in os.listdir(dir) if re.match(pattern, f)]\n",
    "    fname2 += ['_'.join(row.iloc[1:5]) + '_' + lib]\n",
    "\n",
    "#out = [re.sub(r'_R[12]_001\\.fastq\\.gz', '', fn) for fn in fname1]\n",
    "print(fname2)\n"
   ]
  },
  {
   "cell_type": "code",
   "execution_count": 70,
   "metadata": {},
   "outputs": [],
   "source": [
    "def parse_sample_df(df, get=('solexa', 'samples')):\n",
    "    out = []\n",
    "    for _,row in df.iterrows():\n",
    "        lib = row['library_number'].split('-')[0]\n",
    "        flowcell = row['flow_cell']\n",
    "        dir = row['solexa']\n",
    "        pattern = re.compile(rf'.*{lib}.*{flowcell}.*\\.gz$')\n",
    "        if get == 'solexa':\n",
    "            out += [os.path.join(dir, f) for f in os.listdir(dir) if re.match(pattern, f)]\n",
    "        else:\n",
    "            out += ['_'.join(row.iloc[1:5]) + '_' + lib]\n",
    "\n",
    "    return(out)"
   ]
  },
  {
   "cell_type": "code",
   "execution_count": 67,
   "metadata": {},
   "outputs": [
    {
     "data": {
      "text/plain": [
       "['ATAC-seq_heart_E105_mm39_L20871',\n",
       " 'H3K27ac_heart_HH22_galGal6_L20633',\n",
       " 'RNA-seq_heart_HH22_galGal6_L21132']"
      ]
     },
     "execution_count": 67,
     "metadata": {},
     "output_type": "execute_result"
    }
   ],
   "source": [
    "parse_sample_df(df, 'samples')"
   ]
  },
  {
   "cell_type": "code",
   "execution_count": 42,
   "metadata": {},
   "outputs": [
    {
     "name": "stdout",
     "output_type": "stream",
     "text": [
      "['RNA-seq_heart_HH22_Rep1_galGal6_WT_L21132_R1_001.fastq.gz', 'RNA-seq_heart_HH22_Rep1_galGal6_WT_L21132_R2_001.fastq.gz']\n"
     ]
    }
   ],
   "source": [
    "import pandas as pd\n",
    "\n",
    "df = pd.read_csv('/project/ibr_procs/dev/genomics_pipes/sample_info.tsv', sep = '\\t')\n",
    "SAMPLES = df['sample'].tolist()\n",
    "for s in SAMPLES:\n",
    "    if df.loc[df['sample']==s, 'sequencing_type'].iloc[0] == 'paired-end':\n",
    "        output = ['%s_%s_001.fastq.gz' %(s, read) for read in ['R1', 'R2']]\n",
    "    else:\n",
    "        output = ['%s_R1_001.fastq.gz' %s]\n",
    "\n"
   ]
  },
  {
   "cell_type": "code",
   "execution_count": 41,
   "metadata": {},
   "outputs": [
    {
     "name": "stdout",
     "output_type": "stream",
     "text": [
      "True\n",
      "True\n",
      "True\n"
     ]
    }
   ],
   "source": [
    "df = pd.read_csv('/project/ibr_procs/dev/genomics_pipes/sample_info.tsv', sep = '\\t')\n",
    "SAMPLES = df['sample'].tolist()\n",
    "for s in SAMPLES:\n",
    "    print(df.loc[df['sample']==s, 'sequencing_type'].iloc[0] == 'paired-end')"
   ]
  },
  {
   "cell_type": "code",
   "execution_count": 51,
   "metadata": {},
   "outputs": [],
   "source": [
    "def get_fastq(df):\n",
    "    fastq = []\n",
    "    for _,row in df.iterrows():\n",
    "        sample = row['sample']\n",
    "        if row['experiment'] in ['ATAC', 'ChIPmentation']:\n",
    "            fastq += ['%s/_fastq/%s_%s_001.trimmed.fastq.gz' %(outdir, sample, read) for read in ['R1', 'R2']]\n",
    "        else:\n",
    "            fastq += ['%s/_fastq/%s_%s_001.fastq.gz' %(outdir, sample, read) for read in ['R1', 'R2']]\n",
    "\n",
    "    return([fq for fq in fastq]) "
   ]
  },
  {
   "cell_type": "code",
   "execution_count": 45,
   "metadata": {},
   "outputs": [
    {
     "data": {
      "text/plain": [
       "'20240527/logs/{sample}.cutadapt.log'"
      ]
     },
     "execution_count": 45,
     "metadata": {},
     "output_type": "execute_result"
    }
   ],
   "source": [
    "outdir = datetime.now().strftime('%Y%m%d')\n",
    "\n",
    "os.path.join(outdir, 'logs', '{sample}.cutadapt.log')"
   ]
  },
  {
   "cell_type": "code",
   "execution_count": 72,
   "metadata": {},
   "outputs": [],
   "source": [
    "def get_bt2idx(df):\n",
    "    ref_path = '/project/MDL_Ibrahim/MP_all/references'\n",
    "    #return(os.path.join(ref_path, build) for build in df['build'])\n",
    "    outpath = []\n",
    "    for _,row in df.iterrows():\n",
    "        if row['experiment'] in ['ATAC', 'ChIPmentation']:\n",
    "            outpath += [os.path.join(ref_path, row['build'])]\n",
    "    return(outpath)"
   ]
  },
  {
   "cell_type": "code",
   "execution_count": 73,
   "metadata": {},
   "outputs": [
    {
     "data": {
      "text/plain": [
       "['/project/MDL_Ibrahim/MP_all/references/mm39',\n",
       " '/project/MDL_Ibrahim/MP_all/references/galGal6']"
      ]
     },
     "execution_count": 73,
     "metadata": {},
     "output_type": "execute_result"
    }
   ],
   "source": [
    "get_bt2idx(df)"
   ]
  },
  {
   "cell_type": "code",
   "execution_count": 9,
   "metadata": {
    "execution": {
     "iopub.execute_input": "2024-05-27T14:52:45.144198Z",
     "iopub.status.busy": "2024-05-27T14:52:45.143517Z",
     "iopub.status.idle": "2024-05-27T14:52:45.882573Z",
     "shell.execute_reply": "2024-05-27T14:52:45.881396Z",
     "shell.execute_reply.started": "2024-05-27T14:52:45.144061Z"
    }
   },
   "outputs": [],
   "source": [
    "import pandas as pd"
   ]
  },
  {
   "cell_type": "code",
   "execution_count": 15,
   "metadata": {
    "execution": {
     "iopub.execute_input": "2024-05-27T14:54:20.650849Z",
     "iopub.status.busy": "2024-05-27T14:54:20.650091Z",
     "iopub.status.idle": "2024-05-27T14:54:20.665738Z",
     "shell.execute_reply": "2024-05-27T14:54:20.664215Z",
     "shell.execute_reply.started": "2024-05-27T14:54:20.650797Z"
    }
   },
   "outputs": [],
   "source": []
  },
  {
   "cell_type": "code",
   "execution_count": 11,
   "metadata": {
    "execution": {
     "iopub.execute_input": "2024-05-27T14:55:17.848371Z",
     "iopub.status.busy": "2024-05-27T14:55:17.847769Z",
     "iopub.status.idle": "2024-05-27T14:55:17.855630Z",
     "shell.execute_reply": "2024-05-27T14:55:17.854011Z",
     "shell.execute_reply.started": "2024-05-27T14:55:17.848322Z"
    }
   },
   "outputs": [],
   "source": [
    "import os\n",
    "outdir =  os.path.realpath(\".\")"
   ]
  },
  {
   "cell_type": "code",
   "execution_count": null,
   "metadata": {
    "execution": {
     "iopub.execute_input": "2024-05-27T14:55:39.589456Z",
     "iopub.status.busy": "2024-05-27T14:55:39.588852Z",
     "iopub.status.idle": "2024-05-27T14:55:39.601214Z",
     "shell.execute_reply": "2024-05-27T14:55:39.599598Z",
     "shell.execute_reply.started": "2024-05-27T14:55:39.589405Z"
    },
    "tags": []
   },
   "outputs": [],
   "source": [
    "get_fastq(df, aligner =  'bowtie2')"
   ]
  },
  {
   "cell_type": "code",
   "execution_count": null,
   "metadata": {},
   "outputs": [],
   "source": [
    "reads = {'single-end': ['R1'], 'paired-end': ['R1', 'R2']}\n",
    "\n",
    "[reads[x] for x in df.loc['sample', 'sequencing_type']]"
   ]
  },
  {
   "cell_type": "code",
   "execution_count": 19,
   "metadata": {},
   "outputs": [
    {
     "data": {
      "text/plain": [
       "['R1']"
      ]
     },
     "execution_count": 19,
     "metadata": {},
     "output_type": "execute_result"
    }
   ],
   "source": [
    "reads = {'single-end': ['R1'], 'paired-end': ['R1', 'R2']}\n",
    "\n",
    "reads['single-end']"
   ]
  },
  {
   "cell_type": "code",
   "execution_count": 15,
   "metadata": {
    "execution": {
     "iopub.execute_input": "2024-05-30T12:25:20.991012Z",
     "iopub.status.busy": "2024-05-30T12:25:20.990338Z",
     "iopub.status.idle": "2024-05-30T12:25:21.000123Z",
     "shell.execute_reply": "2024-05-30T12:25:20.998517Z",
     "shell.execute_reply.started": "2024-05-30T12:25:20.990952Z"
    },
    "tags": []
   },
   "outputs": [],
   "source": [
    "sample_mates = [{'sample': sample,\n",
    "  'mates': ['R1', 'R2'] if df.loc[sample, 'sequencing_type'] == 'paired-end' else ['R1']}\n",
    "    for sample in df[\"sample\"]\n",
    "    ]"
   ]
  },
  {
   "cell_type": "code",
   "execution_count": 16,
   "metadata": {
    "execution": {
     "iopub.execute_input": "2024-05-30T12:25:24.880618Z",
     "iopub.status.busy": "2024-05-30T12:25:24.879991Z",
     "iopub.status.idle": "2024-05-30T12:25:24.891238Z",
     "shell.execute_reply": "2024-05-30T12:25:24.889522Z",
     "shell.execute_reply.started": "2024-05-30T12:25:24.880563Z"
    }
   },
   "outputs": [
    {
     "data": {
      "text/plain": [
       "[{'sample': 'ATAC-seq_heart_E105_Rep1_mm39_WT_L20871-1',\n",
       "  'mates': ['R1', 'R2']},\n",
       " {'sample': 'H3K27ac_heart_HH22_Rep1_galGal6_WT_L20633-1',\n",
       "  'mates': ['R1', 'R2']}]"
      ]
     },
     "execution_count": 16,
     "metadata": {},
     "output_type": "execute_result"
    }
   ],
   "source": [
    "sample_mates"
   ]
  },
  {
   "cell_type": "code",
   "execution_count": 42,
   "metadata": {
    "execution": {
     "iopub.execute_input": "2024-05-31T12:03:34.867751Z",
     "iopub.status.busy": "2024-05-31T12:03:34.867090Z",
     "iopub.status.idle": "2024-05-31T12:03:34.888985Z",
     "shell.execute_reply": "2024-05-31T12:03:34.887337Z",
     "shell.execute_reply.started": "2024-05-31T12:03:34.867692Z"
    },
    "tags": []
   },
   "outputs": [],
   "source": [
    "df = pd.read_csv('/project/ibr_procs/dev/pipe_dev/ChIP-ATAC_processing/sample_info_test.tsv', sep = '\\t').set_index('sample', drop=False)\n",
    "\n",
    "samples_dict = df.to_dict(orient = \"index\")"
   ]
  },
  {
   "cell_type": "code",
   "execution_count": 44,
   "metadata": {
    "execution": {
     "iopub.execute_input": "2024-05-31T12:03:44.863182Z",
     "iopub.status.busy": "2024-05-31T12:03:44.862517Z",
     "iopub.status.idle": "2024-05-31T12:03:44.892492Z",
     "shell.execute_reply": "2024-05-31T12:03:44.890450Z",
     "shell.execute_reply.started": "2024-05-31T12:03:44.863124Z"
    },
    "tags": []
   },
   "outputs": [
    {
     "data": {
      "text/html": [
       "<div>\n",
       "<style scoped>\n",
       "    .dataframe tbody tr th:only-of-type {\n",
       "        vertical-align: middle;\n",
       "    }\n",
       "\n",
       "    .dataframe tbody tr th {\n",
       "        vertical-align: top;\n",
       "    }\n",
       "\n",
       "    .dataframe thead th {\n",
       "        text-align: right;\n",
       "    }\n",
       "</style>\n",
       "<table border=\"1\" class=\"dataframe\">\n",
       "  <thead>\n",
       "    <tr style=\"text-align: right;\">\n",
       "      <th></th>\n",
       "      <th>solexa</th>\n",
       "      <th>feature</th>\n",
       "      <th>tissue</th>\n",
       "      <th>stage</th>\n",
       "      <th>build</th>\n",
       "      <th>condition</th>\n",
       "      <th>biological_replicate</th>\n",
       "      <th>sequencing_type</th>\n",
       "      <th>experiment</th>\n",
       "      <th>library_number</th>\n",
       "      <th>flow_cell</th>\n",
       "      <th>sample</th>\n",
       "    </tr>\n",
       "    <tr>\n",
       "      <th>sample</th>\n",
       "      <th></th>\n",
       "      <th></th>\n",
       "      <th></th>\n",
       "      <th></th>\n",
       "      <th></th>\n",
       "      <th></th>\n",
       "      <th></th>\n",
       "      <th></th>\n",
       "      <th></th>\n",
       "      <th></th>\n",
       "      <th></th>\n",
       "      <th></th>\n",
       "    </tr>\n",
       "  </thead>\n",
       "  <tbody>\n",
       "    <tr>\n",
       "      <th>ATAC-seq_heart_E105_Rep1_mm39_WT_L20871-1</th>\n",
       "      <td>/project/ibr_procs/dev/pipe_dev/ChIP-ATAC_proc...</td>\n",
       "      <td>ATAC-seq</td>\n",
       "      <td>heart</td>\n",
       "      <td>E105</td>\n",
       "      <td>mm39</td>\n",
       "      <td>WT</td>\n",
       "      <td>Rep1</td>\n",
       "      <td>paired-end</td>\n",
       "      <td>ATAC</td>\n",
       "      <td>L20871-⁠1</td>\n",
       "      <td>S72</td>\n",
       "      <td>ATAC-seq_heart_E105_Rep1_mm39_WT_L20871-1</td>\n",
       "    </tr>\n",
       "    <tr>\n",
       "      <th>H3K27ac_heart_HH22_Rep1_galGal6_WT_L20633-1</th>\n",
       "      <td>/project/ibr_procs/dev/pipe_dev/ChIP-ATAC_proc...</td>\n",
       "      <td>H3K27ac</td>\n",
       "      <td>heart</td>\n",
       "      <td>HH22</td>\n",
       "      <td>galGal6</td>\n",
       "      <td>WT</td>\n",
       "      <td>Rep1</td>\n",
       "      <td>paired-end</td>\n",
       "      <td>ChIPmentation</td>\n",
       "      <td>L20633-1</td>\n",
       "      <td>S5</td>\n",
       "      <td>H3K27ac_heart_HH22_Rep1_galGal6_WT_L20633-1</td>\n",
       "    </tr>\n",
       "    <tr>\n",
       "      <th>H3K27ac_test_SE_L20634</th>\n",
       "      <td>/project/ibr_procs/dev/pipe_dev/ChIP-ATAC_proc...</td>\n",
       "      <td>H3K27ac</td>\n",
       "      <td>heart</td>\n",
       "      <td>HH22</td>\n",
       "      <td>galGal6</td>\n",
       "      <td>WT</td>\n",
       "      <td>Rep1</td>\n",
       "      <td>single-end</td>\n",
       "      <td>ChIPmentation</td>\n",
       "      <td>L20634</td>\n",
       "      <td>S1</td>\n",
       "      <td>H3K27ac_test_SE_L20634</td>\n",
       "    </tr>\n",
       "  </tbody>\n",
       "</table>\n",
       "</div>"
      ],
      "text/plain": [
       "                                                                                        solexa  \\\n",
       "sample                                                                                           \n",
       "ATAC-seq_heart_E105_Rep1_mm39_WT_L20871-1    /project/ibr_procs/dev/pipe_dev/ChIP-ATAC_proc...   \n",
       "H3K27ac_heart_HH22_Rep1_galGal6_WT_L20633-1  /project/ibr_procs/dev/pipe_dev/ChIP-ATAC_proc...   \n",
       "H3K27ac_test_SE_L20634                       /project/ibr_procs/dev/pipe_dev/ChIP-ATAC_proc...   \n",
       "\n",
       "                                              feature tissue stage    build  \\\n",
       "sample                                                                        \n",
       "ATAC-seq_heart_E105_Rep1_mm39_WT_L20871-1    ATAC-seq  heart  E105     mm39   \n",
       "H3K27ac_heart_HH22_Rep1_galGal6_WT_L20633-1   H3K27ac  heart  HH22  galGal6   \n",
       "H3K27ac_test_SE_L20634                        H3K27ac  heart  HH22  galGal6   \n",
       "\n",
       "                                            condition biological_replicate  \\\n",
       "sample                                                                       \n",
       "ATAC-seq_heart_E105_Rep1_mm39_WT_L20871-1          WT                 Rep1   \n",
       "H3K27ac_heart_HH22_Rep1_galGal6_WT_L20633-1        WT                 Rep1   \n",
       "H3K27ac_test_SE_L20634                             WT                 Rep1   \n",
       "\n",
       "                                            sequencing_type     experiment  \\\n",
       "sample                                                                       \n",
       "ATAC-seq_heart_E105_Rep1_mm39_WT_L20871-1        paired-end           ATAC   \n",
       "H3K27ac_heart_HH22_Rep1_galGal6_WT_L20633-1      paired-end  ChIPmentation   \n",
       "H3K27ac_test_SE_L20634                           single-end  ChIPmentation   \n",
       "\n",
       "                                            library_number flow_cell  \\\n",
       "sample                                                                 \n",
       "ATAC-seq_heart_E105_Rep1_mm39_WT_L20871-1        L20871-⁠1       S72   \n",
       "H3K27ac_heart_HH22_Rep1_galGal6_WT_L20633-1       L20633-1        S5   \n",
       "H3K27ac_test_SE_L20634                              L20634        S1   \n",
       "\n",
       "                                                                                  sample  \n",
       "sample                                                                                    \n",
       "ATAC-seq_heart_E105_Rep1_mm39_WT_L20871-1      ATAC-seq_heart_E105_Rep1_mm39_WT_L20871-1  \n",
       "H3K27ac_heart_HH22_Rep1_galGal6_WT_L20633-1  H3K27ac_heart_HH22_Rep1_galGal6_WT_L20633-1  \n",
       "H3K27ac_test_SE_L20634                                            H3K27ac_test_SE_L20634  "
      ]
     },
     "execution_count": 44,
     "metadata": {},
     "output_type": "execute_result"
    }
   ],
   "source": [
    "info_df = df\n",
    "\n",
    "info_df"
   ]
  },
  {
   "cell_type": "code",
   "execution_count": 45,
   "metadata": {
    "execution": {
     "iopub.execute_input": "2024-05-31T12:03:47.137207Z",
     "iopub.status.busy": "2024-05-31T12:03:47.136564Z",
     "iopub.status.idle": "2024-05-31T12:03:47.151592Z",
     "shell.execute_reply": "2024-05-31T12:03:47.149553Z",
     "shell.execute_reply.started": "2024-05-31T12:03:47.137149Z"
    },
    "tags": []
   },
   "outputs": [
    {
     "data": {
      "text/plain": [
       "['ATAC-seq_heart_E105_Rep1_mm39_WT_L20871-1',\n",
       " 'H3K27ac_heart_HH22_Rep1_galGal6_WT_L20633-1']"
      ]
     },
     "execution_count": 45,
     "metadata": {},
     "output_type": "execute_result"
    }
   ],
   "source": [
    "info_df.loc[(info_df['experiment'].isin(['ATAC', 'ChIPmentation'])) & (info_df['sequencing_type'] == 'paired-end'), 'sample'].tolist()"
   ]
  },
  {
   "cell_type": "code",
   "execution_count": null,
   "metadata": {},
   "outputs": [],
   "source": []
  },
  {
   "cell_type": "code",
   "execution_count": null,
   "metadata": {
    "tags": []
   },
   "outputs": [],
   "source": [
    "samples_dict"
   ]
  },
  {
   "cell_type": "code",
   "execution_count": 17,
   "metadata": {
    "execution": {
     "iopub.execute_input": "2024-05-30T12:44:24.855263Z",
     "iopub.status.busy": "2024-05-30T12:44:24.854607Z",
     "iopub.status.idle": "2024-05-30T12:44:24.866031Z",
     "shell.execute_reply": "2024-05-30T12:44:24.863918Z",
     "shell.execute_reply.started": "2024-05-30T12:44:24.855205Z"
    }
   },
   "outputs": [
    {
     "ename": "SyntaxError",
     "evalue": "invalid syntax (3314722286.py, line 2)",
     "output_type": "error",
     "traceback": [
      "\u001b[0;36m  Input \u001b[0;32mIn [17]\u001b[0;36m\u001b[0m\n\u001b[0;31m    'mates': 'R1', 'R2' if info_df.loc[sample, 'sequencing_type'] == 'paired-end' else 'R1'}\u001b[0m\n\u001b[0m                                                                                           ^\u001b[0m\n\u001b[0;31mSyntaxError\u001b[0m\u001b[0;31m:\u001b[0m invalid syntax\n"
     ]
    }
   ],
   "source": [
    "[{'sample': sample,\n",
    "  'mates': 'R1', 'R2' if info_df.loc[sample, 'sequencing_type'] == 'paired-end' else 'R1'}\n",
    "    for sample in info_df[\"sample\"]\n",
    "    ]"
   ]
  },
  {
   "cell_type": "code",
   "execution_count": null,
   "metadata": {},
   "outputs": [],
   "source": [
    "expand('%s/_fastq/{sample}_{read}_001.fastq.gz' %outdir, zip,\n",
    "       sample = [wc['sample'] for wc in sample_mates],\n",
    "       read = [wc['mates'] for wc in sample_mates])"
   ]
  },
  {
   "cell_type": "code",
   "execution_count": 23,
   "metadata": {
    "execution": {
     "iopub.execute_input": "2024-05-30T12:49:16.846020Z",
     "iopub.status.busy": "2024-05-30T12:49:16.845402Z",
     "iopub.status.idle": "2024-05-30T12:49:16.853751Z",
     "shell.execute_reply": "2024-05-30T12:49:16.851947Z",
     "shell.execute_reply.started": "2024-05-30T12:49:16.845966Z"
    }
   },
   "outputs": [],
   "source": [
    "SAMPLES = df['sample'].tolist()"
   ]
  },
  {
   "cell_type": "code",
   "execution_count": null,
   "metadata": {},
   "outputs": [],
   "source": [
    "samples_dict"
   ]
  },
  {
   "cell_type": "code",
   "execution_count": 29,
   "metadata": {
    "execution": {
     "iopub.execute_input": "2024-05-31T09:44:05.754612Z",
     "iopub.status.busy": "2024-05-31T09:44:05.753981Z",
     "iopub.status.idle": "2024-05-31T09:44:05.765767Z",
     "shell.execute_reply": "2024-05-31T09:44:05.763863Z",
     "shell.execute_reply.started": "2024-05-31T09:44:05.754557Z"
    },
    "tags": []
   },
   "outputs": [
    {
     "data": {
      "text/plain": [
       "['ATAC-seq_heart_E105_Rep1_mm39_WT_L20871-1',\n",
       " 'H3K27ac_heart_HH22_Rep1_galGal6_WT_L20633-1']"
      ]
     },
     "execution_count": 29,
     "metadata": {},
     "output_type": "execute_result"
    }
   ],
   "source": [
    "list(samples_dict.keys())"
   ]
  },
  {
   "cell_type": "code",
   "execution_count": 25,
   "metadata": {
    "execution": {
     "iopub.execute_input": "2024-05-31T09:41:43.849569Z",
     "iopub.status.busy": "2024-05-31T09:41:43.848709Z",
     "iopub.status.idle": "2024-05-31T09:41:43.858874Z",
     "shell.execute_reply": "2024-05-31T09:41:43.857363Z",
     "shell.execute_reply.started": "2024-05-31T09:41:43.849512Z"
    },
    "tags": []
   },
   "outputs": [
    {
     "data": {
      "text/plain": [
       "'paired-end'"
      ]
     },
     "execution_count": 25,
     "metadata": {},
     "output_type": "execute_result"
    }
   ],
   "source": [
    "sample = 'ATAC-seq_heart_E105_Rep1_mm39_WT_L20871-1'\n",
    "samples_dict[sample]['sequencing_type']"
   ]
  },
  {
   "cell_type": "code",
   "execution_count": null,
   "metadata": {},
   "outputs": [],
   "source": [
    "rule link_fastq:\n",
    "    input: config['metadata']\n",
    "    output: \n",
    "        expand('%s/_fastq/{sample}_{read}_001.fastq.gz' %outdir, \n",
    "        sample = [wc['sample'] for wc in sample_mates], \n",
    "        read = [wc['mates'] for wc in sample_mates])\n",
    "    params: \n",
    "        outpath = os.path.join(outdir, '_fastq')\n",
    "    shell:\n",
    "        \"\"\"\n",
    "        scripts/get_solexa_symlinks {input} {params.outpath}\n",
    "        \"\"\""
   ]
  }
 ],
 "metadata": {
  "kernelspec": {
   "display_name": "Python 3 (ipykernel)",
   "language": "python",
   "name": "python3"
  },
  "language_info": {
   "codemirror_mode": {
    "name": "ipython",
    "version": 3
   },
   "file_extension": ".py",
   "mimetype": "text/x-python",
   "name": "python",
   "nbconvert_exporter": "python",
   "pygments_lexer": "ipython3",
   "version": "3.9.10"
  }
 },
 "nbformat": 4,
 "nbformat_minor": 4
}
